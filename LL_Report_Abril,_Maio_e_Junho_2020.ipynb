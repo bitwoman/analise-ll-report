{
  "nbformat": 4,
  "nbformat_minor": 0,
  "metadata": {
    "colab": {
      "name": "LL Report - Abril, Maio e Junho 2020.ipynb",
      "provenance": [],
      "collapsed_sections": [],
      "authorship_tag": "ABX9TyO+KHIMEWpYX68OmmWJn9nD"
    },
    "kernelspec": {
      "name": "python3",
      "display_name": "Python 3"
    }
  },
  "cells": [
    {
      "cell_type": "markdown",
      "metadata": {
        "id": "5Or4Q99FZ3_x",
        "colab_type": "text"
      },
      "source": [
        "**Importação de bibliotecas para a manipulação dos dados.**"
      ]
    },
    {
      "cell_type": "code",
      "metadata": {
        "id": "C15QcSu-ICJf",
        "colab_type": "code",
        "colab": {}
      },
      "source": [
        "import numpy as np\n",
        "import pandas as pd\n",
        "import matplotlib.pyplot as plt\n",
        "import seaborn as sns"
      ],
      "execution_count": null,
      "outputs": []
    },
    {
      "cell_type": "markdown",
      "metadata": {
        "id": "sGLezk9raBXm",
        "colab_type": "text"
      },
      "source": [
        "**Abrindo o arquivo excel para a leitura dos dados e verificação dos seus tipos.**"
      ]
    },
    {
      "cell_type": "code",
      "metadata": {
        "id": "8Rq1ZNhlLTl9",
        "colab_type": "code",
        "colab": {
          "base_uri": "https://localhost:8080/",
          "height": 374
        },
        "outputId": "e6962328-1236-4a2f-d3d9-fa88be2f14ee"
      },
      "source": [
        "df = pd.read_excel('LL Report - Abril, Maio e Junho 2020.xlsx')\n",
        "df.info()\n",
        "\n",
        "#O índice do lado esquerdo de é posto pela própria linguagem utilizada, e não interfere em nenhuma ocasião de qualquer análise realizada. "
      ],
      "execution_count": null,
      "outputs": [
        {
          "output_type": "stream",
          "text": [
            "<class 'pandas.core.frame.DataFrame'>\n",
            "RangeIndex: 12852 entries, 0 to 12851\n",
            "Data columns (total 14 columns):\n",
            " #   Column             Non-Null Count  Dtype         \n",
            "---  ------             --------------  -----         \n",
            " 0   NOME               12852 non-null  object        \n",
            " 1   DATA               12852 non-null  datetime64[ns]\n",
            " 2   PEDIDO             12852 non-null  object        \n",
            " 3   PRODUTO            12852 non-null  object        \n",
            " 4   SKU                12852 non-null  object        \n",
            " 5   QUANTIDADE         12217 non-null  float64       \n",
            " 6   PREÇO UNITÁRIO     12217 non-null  float64       \n",
            " 7   ESTADO             12168 non-null  object        \n",
            " 8   FRETE              11167 non-null  float64       \n",
            " 9   TOTAL DE PRODUTOS  12217 non-null  float64       \n",
            " 10  SUBTOTAL           10883 non-null  float64       \n",
            " 11  MARCA              12852 non-null  object        \n",
            " 12  CANAL DE VENDA     12852 non-null  object        \n",
            " 13  STATUS DO PEDIDO   12852 non-null  object        \n",
            "dtypes: datetime64[ns](1), float64(5), object(8)\n",
            "memory usage: 1.4+ MB\n"
          ],
          "name": "stdout"
        }
      ]
    },
    {
      "cell_type": "markdown",
      "metadata": {
        "id": "wV2fhve8aYag",
        "colab_type": "text"
      },
      "source": [
        "**Convertendo a coluna \"MÊS\" para o formato de Data.**"
      ]
    },
    {
      "cell_type": "code",
      "metadata": {
        "id": "h_xKYJJuYt8r",
        "colab_type": "code",
        "colab": {
          "base_uri": "https://localhost:8080/",
          "height": 391
        },
        "outputId": "c43f6759-aa89-4b5e-b542-1805678ba411"
      },
      "source": [
        "df['MÊS'] = pd.to_datetime(df['DATA']).dt.to_period('M')\n",
        "df.head()\n",
        "\n",
        "#O índice do lado esquerdo de cada pivot (tabela) é posto pela própria linguagem utilizada, e não interfere em nenhuma ocasião de qualquer análise realizada. "
      ],
      "execution_count": null,
      "outputs": [
        {
          "output_type": "execute_result",
          "data": {
            "text/html": [
              "<div>\n",
              "<style scoped>\n",
              "    .dataframe tbody tr th:only-of-type {\n",
              "        vertical-align: middle;\n",
              "    }\n",
              "\n",
              "    .dataframe tbody tr th {\n",
              "        vertical-align: top;\n",
              "    }\n",
              "\n",
              "    .dataframe thead th {\n",
              "        text-align: right;\n",
              "    }\n",
              "</style>\n",
              "<table border=\"1\" class=\"dataframe\">\n",
              "  <thead>\n",
              "    <tr style=\"text-align: right;\">\n",
              "      <th></th>\n",
              "      <th>NOME</th>\n",
              "      <th>DATA</th>\n",
              "      <th>PEDIDO</th>\n",
              "      <th>PRODUTO</th>\n",
              "      <th>SKU</th>\n",
              "      <th>QUANTIDADE</th>\n",
              "      <th>PREÇO UNITÁRIO</th>\n",
              "      <th>ESTADO</th>\n",
              "      <th>FRETE</th>\n",
              "      <th>TOTAL DE PRODUTOS</th>\n",
              "      <th>SUBTOTAL</th>\n",
              "      <th>MARCA</th>\n",
              "      <th>CANAL DE VENDA</th>\n",
              "      <th>STATUS DO PEDIDO</th>\n",
              "      <th>MÊS</th>\n",
              "    </tr>\n",
              "  </thead>\n",
              "  <tbody>\n",
              "    <tr>\n",
              "      <th>0</th>\n",
              "      <td>VICENTE</td>\n",
              "      <td>2020-06-30</td>\n",
              "      <td>5E260B09</td>\n",
              "      <td>CRISTALIUM TITAN TAÇA GIN BORGONHA 600 ML C/6</td>\n",
              "      <td>VT-tokstok-392059</td>\n",
              "      <td>1.0</td>\n",
              "      <td>54.703833</td>\n",
              "      <td>RJ</td>\n",
              "      <td>0.0</td>\n",
              "      <td>54.703833</td>\n",
              "      <td>54.703833</td>\n",
              "      <td>TOK&amp;STOK</td>\n",
              "      <td>Canal Kappa</td>\n",
              "      <td>APROVADO</td>\n",
              "      <td>2020-06</td>\n",
              "    </tr>\n",
              "    <tr>\n",
              "      <th>1</th>\n",
              "      <td>MARIA</td>\n",
              "      <td>2020-06-30</td>\n",
              "      <td>60F143FD</td>\n",
              "      <td>CREATE JOGO DE UTENSÍLIOS 11PÇS</td>\n",
              "      <td>VT-tokstok-308180</td>\n",
              "      <td>1.0</td>\n",
              "      <td>43.753111</td>\n",
              "      <td>MG</td>\n",
              "      <td>0.0</td>\n",
              "      <td>43.753111</td>\n",
              "      <td>43.753111</td>\n",
              "      <td>TOK&amp;STOK</td>\n",
              "      <td>Canal Kappa</td>\n",
              "      <td>APROVADO</td>\n",
              "      <td>2020-06</td>\n",
              "    </tr>\n",
              "    <tr>\n",
              "      <th>2</th>\n",
              "      <td>EDUARDO</td>\n",
              "      <td>2020-06-30</td>\n",
              "      <td>89118625</td>\n",
              "      <td>ABSOLUT VODKA EXTRAKT SUECA - 750ML</td>\n",
              "      <td>7312040551798</td>\n",
              "      <td>1.0</td>\n",
              "      <td>44.748631</td>\n",
              "      <td>SP</td>\n",
              "      <td>0.0</td>\n",
              "      <td>44.748631</td>\n",
              "      <td>44.748631</td>\n",
              "      <td>ABSOLUT</td>\n",
              "      <td>Canal Kappa</td>\n",
              "      <td>APROVADO</td>\n",
              "      <td>2020-06</td>\n",
              "    </tr>\n",
              "    <tr>\n",
              "      <th>3</th>\n",
              "      <td>RAPHAEL</td>\n",
              "      <td>2020-06-30</td>\n",
              "      <td>0D2FDCCD</td>\n",
              "      <td>MAISON L’AVENIR PINOTAGE - 2016</td>\n",
              "      <td>VT-worldwine-706</td>\n",
              "      <td>1.0</td>\n",
              "      <td>68.193131</td>\n",
              "      <td>RJ</td>\n",
              "      <td>0.0</td>\n",
              "      <td>68.193131</td>\n",
              "      <td>68.193131</td>\n",
              "      <td>WORLD WINE</td>\n",
              "      <td>Canal Kappa</td>\n",
              "      <td>APROVADO</td>\n",
              "      <td>2020-06</td>\n",
              "    </tr>\n",
              "    <tr>\n",
              "      <th>4</th>\n",
              "      <td>RAPHAEL</td>\n",
              "      <td>2020-06-30</td>\n",
              "      <td>DED0F978</td>\n",
              "      <td>VALDERIZ VALDEHERMOSO 9 MESES - 2016</td>\n",
              "      <td>VT-worldwine-855</td>\n",
              "      <td>1.0</td>\n",
              "      <td>68.193131</td>\n",
              "      <td>RJ</td>\n",
              "      <td>0.0</td>\n",
              "      <td>68.193131</td>\n",
              "      <td>68.193131</td>\n",
              "      <td>WORLD WINE</td>\n",
              "      <td>Canal Kappa</td>\n",
              "      <td>APROVADO</td>\n",
              "      <td>2020-06</td>\n",
              "    </tr>\n",
              "  </tbody>\n",
              "</table>\n",
              "</div>"
            ],
            "text/plain": [
              "       NOME       DATA    PEDIDO  ... CANAL DE VENDA STATUS DO PEDIDO      MÊS\n",
              "0  VICENTE  2020-06-30  5E260B09  ...    Canal Kappa         APROVADO  2020-06\n",
              "1    MARIA  2020-06-30  60F143FD  ...    Canal Kappa         APROVADO  2020-06\n",
              "2  EDUARDO  2020-06-30  89118625  ...    Canal Kappa         APROVADO  2020-06\n",
              "3  RAPHAEL  2020-06-30  0D2FDCCD  ...    Canal Kappa         APROVADO  2020-06\n",
              "4  RAPHAEL  2020-06-30  DED0F978  ...    Canal Kappa         APROVADO  2020-06\n",
              "\n",
              "[5 rows x 15 columns]"
            ]
          },
          "metadata": {
            "tags": []
          },
          "execution_count": 21
        }
      ]
    },
    {
      "cell_type": "markdown",
      "metadata": {
        "id": "4mAdMl2yantG",
        "colab_type": "text"
      },
      "source": [
        "**Quantidade de ordens (pedidos) por \"Canal de Venda\", sejam elas com status tanto positivo quanto negativo. \n",
        "É possível ver que o canal \"Canal Kappa\" possui uma estratégia melhor de venda com relação aos demais canais.**"
      ]
    },
    {
      "cell_type": "code",
      "metadata": {
        "id": "1DThZLa_Qbz-",
        "colab_type": "code",
        "colab": {
          "base_uri": "https://localhost:8080/",
          "height": 153
        },
        "outputId": "160a46f8-f641-4e1e-d18a-f2fa9edcaee6"
      },
      "source": [
        "df['CANAL DE VENDA'].value_counts()"
      ],
      "execution_count": null,
      "outputs": [
        {
          "output_type": "execute_result",
          "data": {
            "text/plain": [
              "Canal Kappa     7823\n",
              "Canal Gama      2626\n",
              "Canal Delta     1890\n",
              "Canal Ômega      194\n",
              "Canal Alfa       130\n",
              "Canal Lambda     102\n",
              "Canal Zeta        87\n",
              "Name: CANAL DE VENDA, dtype: int64"
            ]
          },
          "metadata": {
            "tags": []
          },
          "execution_count": 6
        }
      ]
    },
    {
      "cell_type": "markdown",
      "metadata": {
        "id": "50w17nE4a2Pd",
        "colab_type": "text"
      },
      "source": [
        "**A partir da contagem de ordens, fora criado um pivot de acordo com a mesma e separados de acordo com cada um dos dos canais de venda que mais obtiveram  pedidos. Colocando o \"Status do Pedido\" como parâmetro para que, assim, o pivot seja filtrado para retornar apenas a contagem de pedidos que foram aprovados.**\n",
        "- O Canal Kappa teve uma diminuição no número de pedidos, mas ainda assim permaneceu com a maior quantidade."
      ]
    },
    {
      "cell_type": "code",
      "metadata": {
        "id": "5jHvq2IABFMC",
        "colab_type": "code",
        "colab": {
          "base_uri": "https://localhost:8080/",
          "height": 204
        },
        "outputId": "57f73790-95ad-4bc6-a1fa-b1cc8d73ebd0"
      },
      "source": [
        "piv_df_count_cv = pd.pivot_table(df[df['STATUS DO PEDIDO'] == 'APROVADO'], \n",
        "                                 values='PEDIDO', \n",
        "                                 index=['CANAL DE VENDA'], \n",
        "                                 aggfunc='count').reset_index().sort_values(by='PEDIDO', ascending=False)\n",
        "qtde_canal_vendas = piv_df_count_cv.head() \n",
        "qtde_canal_vendas\n",
        "\n",
        "#O índice do lado esquerdo de cada pivot (tabela) é posto pela própria linguagem utilizada, e não interfere em nenhuma ocasião de qualquer análise realizada. "
      ],
      "execution_count": null,
      "outputs": [
        {
          "output_type": "execute_result",
          "data": {
            "text/html": [
              "<div>\n",
              "<style scoped>\n",
              "    .dataframe tbody tr th:only-of-type {\n",
              "        vertical-align: middle;\n",
              "    }\n",
              "\n",
              "    .dataframe tbody tr th {\n",
              "        vertical-align: top;\n",
              "    }\n",
              "\n",
              "    .dataframe thead th {\n",
              "        text-align: right;\n",
              "    }\n",
              "</style>\n",
              "<table border=\"1\" class=\"dataframe\">\n",
              "  <thead>\n",
              "    <tr style=\"text-align: right;\">\n",
              "      <th></th>\n",
              "      <th>CANAL DE VENDA</th>\n",
              "      <th>PEDIDO</th>\n",
              "    </tr>\n",
              "  </thead>\n",
              "  <tbody>\n",
              "    <tr>\n",
              "      <th>3</th>\n",
              "      <td>Canal Kappa</td>\n",
              "      <td>7639</td>\n",
              "    </tr>\n",
              "    <tr>\n",
              "      <th>2</th>\n",
              "      <td>Canal Gama</td>\n",
              "      <td>2411</td>\n",
              "    </tr>\n",
              "    <tr>\n",
              "      <th>1</th>\n",
              "      <td>Canal Delta</td>\n",
              "      <td>1520</td>\n",
              "    </tr>\n",
              "    <tr>\n",
              "      <th>6</th>\n",
              "      <td>Canal Ômega</td>\n",
              "      <td>179</td>\n",
              "    </tr>\n",
              "    <tr>\n",
              "      <th>4</th>\n",
              "      <td>Canal Lambda</td>\n",
              "      <td>74</td>\n",
              "    </tr>\n",
              "  </tbody>\n",
              "</table>\n",
              "</div>"
            ],
            "text/plain": [
              "  CANAL DE VENDA  PEDIDO\n",
              "3    Canal Kappa    7639\n",
              "2     Canal Gama    2411\n",
              "1    Canal Delta    1520\n",
              "6    Canal Ômega     179\n",
              "4   Canal Lambda      74"
            ]
          },
          "metadata": {
            "tags": []
          },
          "execution_count": 62
        }
      ]
    },
    {
      "cell_type": "markdown",
      "metadata": {
        "id": "mQu1V7SbbHoq",
        "colab_type": "text"
      },
      "source": [
        "**Em seguida, é possível gerarmos um gráfico de barras vertical para termos uma visualização mais ampla da situação.**"
      ]
    },
    {
      "cell_type": "code",
      "metadata": {
        "id": "DcLOkz8zCRo-",
        "colab_type": "code",
        "colab": {
          "base_uri": "https://localhost:8080/",
          "height": 408
        },
        "outputId": "4f6123db-ff35-43a1-f0e3-0644f0b82175"
      },
      "source": [
        "plt.figure(figsize=(9,5))\n",
        "piv_df_count_cv_bar = sns.barplot(x='CANAL DE VENDA', y='PEDIDO', data=qtde_canal_vendas)\n",
        "piv_df_count_cv_bar.set(xlabel='CANAIS DE VENDA', ylabel='QUANTIDADE DE PEDIDOS', title='Pedidos por Canal de Venda')"
      ],
      "execution_count": null,
      "outputs": [
        {
          "output_type": "execute_result",
          "data": {
            "text/plain": [
              "[Text(0, 0.5, 'QUANTIDADE DE PEDIDOS'),\n",
              " Text(0.5, 0, 'CANAIS DE VENDA'),\n",
              " Text(0.5, 1.0, 'Pedidos por Canal de Venda')]"
            ]
          },
          "metadata": {
            "tags": []
          },
          "execution_count": 63
        },
        {
          "output_type": "display_data",
          "data": {
            "image/png": "[encoded data removed]",
            "text/plain": [
              "<Figure size 648x360 with 1 Axes>"
            ]
          },
          "metadata": {
            "tags": []
          }
        }
      ]
    },
    {
      "cell_type": "markdown",
      "metadata": {
        "id": "MMteBqAJbPh4",
        "colab_type": "text"
      },
      "source": [
        "**Quantidade de ordens (pedidos) por marca. É possível ver que a marca mais vendida entre todas é a \"World Wine\".**"
      ]
    },
    {
      "cell_type": "code",
      "metadata": {
        "id": "jyv8dzNSRSy6",
        "colab_type": "code",
        "colab": {
          "base_uri": "https://localhost:8080/",
          "height": 221
        },
        "outputId": "f5a0732b-2150-4148-cd7a-92fd90edffa5"
      },
      "source": [
        "df['MARCA'].value_counts()"
      ],
      "execution_count": null,
      "outputs": [
        {
          "output_type": "execute_result",
          "data": {
            "text/plain": [
              "WORLD WINE          2727\n",
              "TOK&STOK            1777\n",
              "ABSOLUT              989\n",
              "GAMAITALY            934\n",
              "TROUSSEAU            738\n",
              "                    ... \n",
              "EDITORA SEXTANTE       1\n",
              "OBJETIVA               1\n",
              "FUJIFILM               1\n",
              "BERTRAND BRASIL        1\n",
              "BEATS                  1\n",
              "Name: MARCA, Length: 229, dtype: int64"
            ]
          },
          "metadata": {
            "tags": []
          },
          "execution_count": 9
        }
      ]
    },
    {
      "cell_type": "markdown",
      "metadata": {
        "id": "lYB0VmAkbZX-",
        "colab_type": "text"
      },
      "source": [
        "**Criação de pivot para a quantidade de ordens por cada marca, que obtivera o pedido como status de \"aprovado\".**"
      ]
    },
    {
      "cell_type": "code",
      "metadata": {
        "id": "yUMRJfpyJxsX",
        "colab_type": "code",
        "colab": {}
      },
      "source": [
        "piv_ordens_marca = pd.pivot_table(df[df['STATUS DO PEDIDO'] == 'APROVADO'],\n",
        "                                  values='PEDIDO', \n",
        "                                  index=['MARCA'], \n",
        "                                  aggfunc='count').reset_index().sort_values(by='PEDIDO', ascending=False)\n",
        "qtde_ordens_marca = piv_ordens_marca.head()"
      ],
      "execution_count": null,
      "outputs": []
    },
    {
      "cell_type": "markdown",
      "metadata": {
        "id": "TwHet3xGbzZc",
        "colab_type": "text"
      },
      "source": [
        "**Por conseguinte, a criação do gráfico com as 5 marcas que mais obtiveram pedidos aprovados.**"
      ]
    },
    {
      "cell_type": "code",
      "metadata": {
        "id": "4xxY6oAYTAbH",
        "colab_type": "code",
        "colab": {
          "base_uri": "https://localhost:8080/",
          "height": 461
        },
        "outputId": "3e7f15a6-9259-4e4c-9fd0-373ecd17a17e"
      },
      "source": [
        "plt.figure(figsize=(9,6))\n",
        "sns.set(style='whitegrid')\n",
        "piv_df_count_cv_bar = sns.barplot(x='MARCA', y='PEDIDO', data=qtde_ordens_marca)\n",
        "piv_df_count_cv_bar.set(xlabel='MARCAS', ylabel='QUANTIDADE DE PEDIDOS', title='Pedidos por Marca')"
      ],
      "execution_count": null,
      "outputs": [
        {
          "output_type": "execute_result",
          "data": {
            "text/plain": [
              "[Text(0, 0.5, 'QUANTIDADE DE PEDIDOS'),\n",
              " Text(0.5, 0, 'MARCAS'),\n",
              " Text(0.5, 1.0, 'Pedidos por Marca')]"
            ]
          },
          "metadata": {
            "tags": []
          },
          "execution_count": 11
        },
        {
          "output_type": "display_data",
          "data": {
            "image/png": "[encoded data removed]",
            "text/plain": [
              "<Figure size 648x432 with 1 Axes>"
            ]
          },
          "metadata": {
            "tags": []
          }
        }
      ]
    },
    {
      "cell_type": "markdown",
      "metadata": {
        "id": "yNLNeipxcKtf",
        "colab_type": "text"
      },
      "source": [
        "**Acrescentando uma coluna e convertendo-o para datetime para uma versão de apenas ano-mês, para facilicar a visualização e a manipulação.**"
      ]
    },
    {
      "cell_type": "code",
      "metadata": {
        "id": "V38zQmaNSWAb",
        "colab_type": "code",
        "colab": {
          "base_uri": "https://localhost:8080/",
          "height": 391
        },
        "outputId": "b011cfc9-43a8-46f6-8b60-494f85957116"
      },
      "source": [
        "df['MÊS'] = pd.to_datetime(df['DATA']).dt.to_period('M')\n",
        "df.head()\n",
        "\n",
        "#O índice do lado esquerdo de cada pivot (tabela) é posto pela própria linguagem utilizada, e não interfere em nenhuma ocasião de qualquer análise realizada. "
      ],
      "execution_count": null,
      "outputs": [
        {
          "output_type": "execute_result",
          "data": {
            "text/html": [
              "<div>\n",
              "<style scoped>\n",
              "    .dataframe tbody tr th:only-of-type {\n",
              "        vertical-align: middle;\n",
              "    }\n",
              "\n",
              "    .dataframe tbody tr th {\n",
              "        vertical-align: top;\n",
              "    }\n",
              "\n",
              "    .dataframe thead th {\n",
              "        text-align: right;\n",
              "    }\n",
              "</style>\n",
              "<table border=\"1\" class=\"dataframe\">\n",
              "  <thead>\n",
              "    <tr style=\"text-align: right;\">\n",
              "      <th></th>\n",
              "      <th>NOME</th>\n",
              "      <th>DATA</th>\n",
              "      <th>PEDIDO</th>\n",
              "      <th>PRODUTO</th>\n",
              "      <th>SKU</th>\n",
              "      <th>QUANTIDADE</th>\n",
              "      <th>PREÇO UNITÁRIO</th>\n",
              "      <th>ESTADO</th>\n",
              "      <th>FRETE</th>\n",
              "      <th>TOTAL DE PRODUTOS</th>\n",
              "      <th>SUBTOTAL</th>\n",
              "      <th>MARCA</th>\n",
              "      <th>CANAL DE VENDA</th>\n",
              "      <th>STATUS DO PEDIDO</th>\n",
              "      <th>MÊS</th>\n",
              "    </tr>\n",
              "  </thead>\n",
              "  <tbody>\n",
              "    <tr>\n",
              "      <th>0</th>\n",
              "      <td>VICENTE</td>\n",
              "      <td>2020-06-30</td>\n",
              "      <td>5E260B09</td>\n",
              "      <td>CRISTALIUM TITAN TAÇA GIN BORGONHA 600 ML C/6</td>\n",
              "      <td>VT-tokstok-392059</td>\n",
              "      <td>1.0</td>\n",
              "      <td>54.703833</td>\n",
              "      <td>RJ</td>\n",
              "      <td>0.0</td>\n",
              "      <td>54.703833</td>\n",
              "      <td>54.703833</td>\n",
              "      <td>TOK&amp;STOK</td>\n",
              "      <td>Canal Kappa</td>\n",
              "      <td>APROVADO</td>\n",
              "      <td>2020-06</td>\n",
              "    </tr>\n",
              "    <tr>\n",
              "      <th>1</th>\n",
              "      <td>MARIA</td>\n",
              "      <td>2020-06-30</td>\n",
              "      <td>60F143FD</td>\n",
              "      <td>CREATE JOGO DE UTENSÍLIOS 11PÇS</td>\n",
              "      <td>VT-tokstok-308180</td>\n",
              "      <td>1.0</td>\n",
              "      <td>43.753111</td>\n",
              "      <td>MG</td>\n",
              "      <td>0.0</td>\n",
              "      <td>43.753111</td>\n",
              "      <td>43.753111</td>\n",
              "      <td>TOK&amp;STOK</td>\n",
              "      <td>Canal Kappa</td>\n",
              "      <td>APROVADO</td>\n",
              "      <td>2020-06</td>\n",
              "    </tr>\n",
              "    <tr>\n",
              "      <th>2</th>\n",
              "      <td>EDUARDO</td>\n",
              "      <td>2020-06-30</td>\n",
              "      <td>89118625</td>\n",
              "      <td>ABSOLUT VODKA EXTRAKT SUECA - 750ML</td>\n",
              "      <td>7312040551798</td>\n",
              "      <td>1.0</td>\n",
              "      <td>44.748631</td>\n",
              "      <td>SP</td>\n",
              "      <td>0.0</td>\n",
              "      <td>44.748631</td>\n",
              "      <td>44.748631</td>\n",
              "      <td>ABSOLUT</td>\n",
              "      <td>Canal Kappa</td>\n",
              "      <td>APROVADO</td>\n",
              "      <td>2020-06</td>\n",
              "    </tr>\n",
              "    <tr>\n",
              "      <th>3</th>\n",
              "      <td>RAPHAEL</td>\n",
              "      <td>2020-06-30</td>\n",
              "      <td>0D2FDCCD</td>\n",
              "      <td>MAISON L’AVENIR PINOTAGE - 2016</td>\n",
              "      <td>VT-worldwine-706</td>\n",
              "      <td>1.0</td>\n",
              "      <td>68.193131</td>\n",
              "      <td>RJ</td>\n",
              "      <td>0.0</td>\n",
              "      <td>68.193131</td>\n",
              "      <td>68.193131</td>\n",
              "      <td>WORLD WINE</td>\n",
              "      <td>Canal Kappa</td>\n",
              "      <td>APROVADO</td>\n",
              "      <td>2020-06</td>\n",
              "    </tr>\n",
              "    <tr>\n",
              "      <th>4</th>\n",
              "      <td>RAPHAEL</td>\n",
              "      <td>2020-06-30</td>\n",
              "      <td>DED0F978</td>\n",
              "      <td>VALDERIZ VALDEHERMOSO 9 MESES - 2016</td>\n",
              "      <td>VT-worldwine-855</td>\n",
              "      <td>1.0</td>\n",
              "      <td>68.193131</td>\n",
              "      <td>RJ</td>\n",
              "      <td>0.0</td>\n",
              "      <td>68.193131</td>\n",
              "      <td>68.193131</td>\n",
              "      <td>WORLD WINE</td>\n",
              "      <td>Canal Kappa</td>\n",
              "      <td>APROVADO</td>\n",
              "      <td>2020-06</td>\n",
              "    </tr>\n",
              "  </tbody>\n",
              "</table>\n",
              "</div>"
            ],
            "text/plain": [
              "       NOME       DATA    PEDIDO  ... CANAL DE VENDA STATUS DO PEDIDO      MÊS\n",
              "0  VICENTE  2020-06-30  5E260B09  ...    Canal Kappa         APROVADO  2020-06\n",
              "1    MARIA  2020-06-30  60F143FD  ...    Canal Kappa         APROVADO  2020-06\n",
              "2  EDUARDO  2020-06-30  89118625  ...    Canal Kappa         APROVADO  2020-06\n",
              "3  RAPHAEL  2020-06-30  0D2FDCCD  ...    Canal Kappa         APROVADO  2020-06\n",
              "4  RAPHAEL  2020-06-30  DED0F978  ...    Canal Kappa         APROVADO  2020-06\n",
              "\n",
              "[5 rows x 15 columns]"
            ]
          },
          "metadata": {
            "tags": []
          },
          "execution_count": 48
        }
      ]
    },
    {
      "cell_type": "markdown",
      "metadata": {
        "id": "Mb12ET7dJICt",
        "colab_type": "text"
      },
      "source": [
        "**Cria-se um pivot para analisar os dados conforme a quantidade de pedidos, e através deste, gerar um gráfico de linhas para se analisar a tendência destes canais durante esses três meses em questão.**"
      ]
    },
    {
      "cell_type": "code",
      "metadata": {
        "id": "JlSJilpIpHoB",
        "colab_type": "code",
        "colab": {
          "base_uri": "https://localhost:8080/",
          "height": 204
        },
        "outputId": "a7865f8f-3b4a-436e-89ba-54b2e4724e81"
      },
      "source": [
        "piv_df = pd.pivot_table(df, \n",
        "                        values='PEDIDO', \n",
        "                        index=['MÊS', 'CANAL DE VENDA'], \n",
        "                        aggfunc='count').reset_index()\n",
        "piv_df.head()\n",
        "\n",
        "#O índice do lado esquerdo de cada pivot (tabela) é posto pela própria linguagem utilizada, e não interfere em nenhuma ocasião de qualquer análise realizada. "
      ],
      "execution_count": null,
      "outputs": [
        {
          "output_type": "execute_result",
          "data": {
            "text/html": [
              "<div>\n",
              "<style scoped>\n",
              "    .dataframe tbody tr th:only-of-type {\n",
              "        vertical-align: middle;\n",
              "    }\n",
              "\n",
              "    .dataframe tbody tr th {\n",
              "        vertical-align: top;\n",
              "    }\n",
              "\n",
              "    .dataframe thead th {\n",
              "        text-align: right;\n",
              "    }\n",
              "</style>\n",
              "<table border=\"1\" class=\"dataframe\">\n",
              "  <thead>\n",
              "    <tr style=\"text-align: right;\">\n",
              "      <th></th>\n",
              "      <th>MÊS</th>\n",
              "      <th>CANAL DE VENDA</th>\n",
              "      <th>PEDIDO</th>\n",
              "    </tr>\n",
              "  </thead>\n",
              "  <tbody>\n",
              "    <tr>\n",
              "      <th>0</th>\n",
              "      <td>2020-04</td>\n",
              "      <td>Canal Alfa</td>\n",
              "      <td>4</td>\n",
              "    </tr>\n",
              "    <tr>\n",
              "      <th>1</th>\n",
              "      <td>2020-04</td>\n",
              "      <td>Canal Delta</td>\n",
              "      <td>682</td>\n",
              "    </tr>\n",
              "    <tr>\n",
              "      <th>2</th>\n",
              "      <td>2020-04</td>\n",
              "      <td>Canal Gama</td>\n",
              "      <td>818</td>\n",
              "    </tr>\n",
              "    <tr>\n",
              "      <th>3</th>\n",
              "      <td>2020-04</td>\n",
              "      <td>Canal Kappa</td>\n",
              "      <td>1555</td>\n",
              "    </tr>\n",
              "    <tr>\n",
              "      <th>4</th>\n",
              "      <td>2020-04</td>\n",
              "      <td>Canal Lambda</td>\n",
              "      <td>54</td>\n",
              "    </tr>\n",
              "  </tbody>\n",
              "</table>\n",
              "</div>"
            ],
            "text/plain": [
              "       MÊS CANAL DE VENDA  PEDIDO\n",
              "0  2020-04     Canal Alfa       4\n",
              "1  2020-04    Canal Delta     682\n",
              "2  2020-04     Canal Gama     818\n",
              "3  2020-04    Canal Kappa    1555\n",
              "4  2020-04   Canal Lambda      54"
            ]
          },
          "metadata": {
            "tags": []
          },
          "execution_count": 23
        }
      ]
    },
    {
      "cell_type": "markdown",
      "metadata": {
        "id": "jzojQOw6Jd9e",
        "colab_type": "text"
      },
      "source": [
        "**Após a criação do pivot, utilizamo-os para gerar um gráfico de linhas com base na quantidade total de pedidos (tanto aprovados, quanto não aprovados - mas é possível altera-lo apenas para aprovados) por Canal de Venda em cada mês. Os marcadores mostram o total de cada um destes.**"
      ]
    },
    {
      "cell_type": "code",
      "metadata": {
        "id": "sXeLaqDoDGdX",
        "colab_type": "code",
        "colab": {
          "base_uri": "https://localhost:8080/",
          "height": 411
        },
        "outputId": "9f92a7af-46b3-40bc-a1f8-f7ad8e514ee7"
      },
      "source": [
        "plt.figure(figsize=(20,6))\n",
        "sns.set(style='whitegrid')\n",
        "sns.lineplot(x='MÊS', y='PEDIDO', hue='CANAL DE VENDA', data=piv_df, marker='o', scalex=False, scaley=False)"
      ],
      "execution_count": null,
      "outputs": [
        {
          "output_type": "execute_result",
          "data": {
            "text/plain": [
              "<matplotlib.axes._subplots.AxesSubplot at 0x7f61b3b7e940>"
            ]
          },
          "metadata": {
            "tags": []
          },
          "execution_count": 208
        },
        {
          "output_type": "display_data",
          "data": {
            "image/png": "[encoded data removed]",
            "text/plain": [
              "<Figure size 1440x432 with 1 Axes>"
            ]
          },
          "metadata": {
            "tags": []
          }
        }
      ]
    },
    {
      "cell_type": "markdown",
      "metadata": {
        "id": "lZGtvnJ8zbhx",
        "colab_type": "text"
      },
      "source": [
        "**Valor médio do frete de acordo com cada estado.**\n"
      ]
    },
    {
      "cell_type": "code",
      "metadata": {
        "id": "927Sf5E6deEC",
        "colab_type": "code",
        "colab": {
          "base_uri": "https://localhost:8080/",
          "height": 824
        },
        "outputId": "83638e52-fa3f-4d06-9b5b-2f526eab6dd8"
      },
      "source": [
        "piv_df_mean_frete_uf = pd.pivot_table(df[df.FRETE != 0],\n",
        "                            values='FRETE',\n",
        "                            index='ESTADO',\n",
        "                            aggfunc='mean').reset_index().sort_values(by='FRETE', ascending=False)\n",
        "piv_df_mean_frete_uf\n",
        "\n",
        "#O índice do lado esquerdo de cada pivot (tabela) é posto pela própria linguagem utilizada, e não interfere em nenhuma ocasião de qualquer análise realizada. "
      ],
      "execution_count": null,
      "outputs": [
        {
          "output_type": "execute_result",
          "data": {
            "text/html": [
              "<div>\n",
              "<style scoped>\n",
              "    .dataframe tbody tr th:only-of-type {\n",
              "        vertical-align: middle;\n",
              "    }\n",
              "\n",
              "    .dataframe tbody tr th {\n",
              "        vertical-align: top;\n",
              "    }\n",
              "\n",
              "    .dataframe thead th {\n",
              "        text-align: right;\n",
              "    }\n",
              "</style>\n",
              "<table border=\"1\" class=\"dataframe\">\n",
              "  <thead>\n",
              "    <tr style=\"text-align: right;\">\n",
              "      <th></th>\n",
              "      <th>ESTADO</th>\n",
              "      <th>FRETE</th>\n",
              "    </tr>\n",
              "  </thead>\n",
              "  <tbody>\n",
              "    <tr>\n",
              "      <th>14</th>\n",
              "      <td>PI</td>\n",
              "      <td>6.620209</td>\n",
              "    </tr>\n",
              "    <tr>\n",
              "      <th>23</th>\n",
              "      <td>SP</td>\n",
              "      <td>7.802058</td>\n",
              "    </tr>\n",
              "    <tr>\n",
              "      <th>22</th>\n",
              "      <td>SE</td>\n",
              "      <td>8.405177</td>\n",
              "    </tr>\n",
              "    <tr>\n",
              "      <th>7</th>\n",
              "      <td>MA</td>\n",
              "      <td>9.015502</td>\n",
              "    </tr>\n",
              "    <tr>\n",
              "      <th>15</th>\n",
              "      <td>PR</td>\n",
              "      <td>9.544086</td>\n",
              "    </tr>\n",
              "    <tr>\n",
              "      <th>4</th>\n",
              "      <td>DF</td>\n",
              "      <td>9.797728</td>\n",
              "    </tr>\n",
              "    <tr>\n",
              "      <th>21</th>\n",
              "      <td>SC</td>\n",
              "      <td>10.397298</td>\n",
              "    </tr>\n",
              "    <tr>\n",
              "      <th>20</th>\n",
              "      <td>RS</td>\n",
              "      <td>10.708287</td>\n",
              "    </tr>\n",
              "    <tr>\n",
              "      <th>0</th>\n",
              "      <td>AL</td>\n",
              "      <td>10.952381</td>\n",
              "    </tr>\n",
              "    <tr>\n",
              "      <th>8</th>\n",
              "      <td>MG</td>\n",
              "      <td>11.016208</td>\n",
              "    </tr>\n",
              "    <tr>\n",
              "      <th>2</th>\n",
              "      <td>BA</td>\n",
              "      <td>11.732638</td>\n",
              "    </tr>\n",
              "    <tr>\n",
              "      <th>16</th>\n",
              "      <td>RJ</td>\n",
              "      <td>12.414844</td>\n",
              "    </tr>\n",
              "    <tr>\n",
              "      <th>19</th>\n",
              "      <td>RR</td>\n",
              "      <td>12.941762</td>\n",
              "    </tr>\n",
              "    <tr>\n",
              "      <th>3</th>\n",
              "      <td>CE</td>\n",
              "      <td>13.622562</td>\n",
              "    </tr>\n",
              "    <tr>\n",
              "      <th>6</th>\n",
              "      <td>GO</td>\n",
              "      <td>14.013937</td>\n",
              "    </tr>\n",
              "    <tr>\n",
              "      <th>11</th>\n",
              "      <td>PA</td>\n",
              "      <td>15.350091</td>\n",
              "    </tr>\n",
              "    <tr>\n",
              "      <th>13</th>\n",
              "      <td>PE</td>\n",
              "      <td>15.361329</td>\n",
              "    </tr>\n",
              "    <tr>\n",
              "      <th>5</th>\n",
              "      <td>ES</td>\n",
              "      <td>19.458997</td>\n",
              "    </tr>\n",
              "    <tr>\n",
              "      <th>12</th>\n",
              "      <td>PB</td>\n",
              "      <td>19.507218</td>\n",
              "    </tr>\n",
              "    <tr>\n",
              "      <th>1</th>\n",
              "      <td>AM</td>\n",
              "      <td>20.256346</td>\n",
              "    </tr>\n",
              "    <tr>\n",
              "      <th>17</th>\n",
              "      <td>RN</td>\n",
              "      <td>20.864954</td>\n",
              "    </tr>\n",
              "    <tr>\n",
              "      <th>24</th>\n",
              "      <td>TO</td>\n",
              "      <td>23.676788</td>\n",
              "    </tr>\n",
              "    <tr>\n",
              "      <th>10</th>\n",
              "      <td>MT</td>\n",
              "      <td>26.275759</td>\n",
              "    </tr>\n",
              "    <tr>\n",
              "      <th>18</th>\n",
              "      <td>RO</td>\n",
              "      <td>34.481085</td>\n",
              "    </tr>\n",
              "    <tr>\n",
              "      <th>9</th>\n",
              "      <td>MS</td>\n",
              "      <td>39.725299</td>\n",
              "    </tr>\n",
              "  </tbody>\n",
              "</table>\n",
              "</div>"
            ],
            "text/plain": [
              "   ESTADO      FRETE\n",
              "14     PI   6.620209\n",
              "23     SP   7.802058\n",
              "22     SE   8.405177\n",
              "7      MA   9.015502\n",
              "15     PR   9.544086\n",
              "4      DF   9.797728\n",
              "21     SC  10.397298\n",
              "20     RS  10.708287\n",
              "0      AL  10.952381\n",
              "8      MG  11.016208\n",
              "2      BA  11.732638\n",
              "16     RJ  12.414844\n",
              "19     RR  12.941762\n",
              "3      CE  13.622562\n",
              "6      GO  14.013937\n",
              "11     PA  15.350091\n",
              "13     PE  15.361329\n",
              "5      ES  19.458997\n",
              "12     PB  19.507218\n",
              "1      AM  20.256346\n",
              "17     RN  20.864954\n",
              "24     TO  23.676788\n",
              "10     MT  26.275759\n",
              "18     RO  34.481085\n",
              "9      MS  39.725299"
            ]
          },
          "metadata": {
            "tags": []
          },
          "execution_count": 160
        }
      ]
    },
    {
      "cell_type": "markdown",
      "metadata": {
        "id": "8rOfneIJPUXK",
        "colab_type": "text"
      },
      "source": [
        "**Neste, segue-se o GMV (Gross Merchandise Volume - Volume Bruto de Mercadorias). Ou seja, a soma do preço unitário de cada produto com o valor do frete. Filtrado por marca. (As 5 marcas que obtiveram os maiores valores em subtotal).**"
      ]
    },
    {
      "cell_type": "code",
      "metadata": {
        "id": "mEzgrAY6PTmk",
        "colab_type": "code",
        "colab": {
          "base_uri": "https://localhost:8080/",
          "height": 204
        },
        "outputId": "e4d7f1fd-bf70-4621-90b0-88f9e36cab2f"
      },
      "source": [
        "piv_df_gmv = pd.pivot_table(df,\n",
        "                            values=['SUBTOTAL'],\n",
        "                            index='MARCA',\n",
        "                            aggfunc='sum').reset_index().sort_values(by='SUBTOTAL', ascending=False)\n",
        "piv_df_gmv.head() \n",
        "\n",
        "#O índice do lado esquerdo de cada pivot (tabela) é posto pela própria linguagem utilizada, e não interfere em nenhuma ocasião de qualquer análise realizada. "
      ],
      "execution_count": null,
      "outputs": [
        {
          "output_type": "execute_result",
          "data": {
            "text/html": [
              "<div>\n",
              "<style scoped>\n",
              "    .dataframe tbody tr th:only-of-type {\n",
              "        vertical-align: middle;\n",
              "    }\n",
              "\n",
              "    .dataframe tbody tr th {\n",
              "        vertical-align: top;\n",
              "    }\n",
              "\n",
              "    .dataframe thead th {\n",
              "        text-align: right;\n",
              "    }\n",
              "</style>\n",
              "<table border=\"1\" class=\"dataframe\">\n",
              "  <thead>\n",
              "    <tr style=\"text-align: right;\">\n",
              "      <th></th>\n",
              "      <th>MARCA</th>\n",
              "      <th>SUBTOTAL</th>\n",
              "    </tr>\n",
              "  </thead>\n",
              "  <tbody>\n",
              "    <tr>\n",
              "      <th>222</th>\n",
              "      <td>WORLD WINE</td>\n",
              "      <td>171018.899950</td>\n",
              "    </tr>\n",
              "    <tr>\n",
              "      <th>189</th>\n",
              "      <td>SEKURO</td>\n",
              "      <td>149328.023892</td>\n",
              "    </tr>\n",
              "    <tr>\n",
              "      <th>200</th>\n",
              "      <td>TOK&amp;STOK</td>\n",
              "      <td>98221.299154</td>\n",
              "    </tr>\n",
              "    <tr>\n",
              "      <th>204</th>\n",
              "      <td>TROUSSEAU</td>\n",
              "      <td>78721.333997</td>\n",
              "    </tr>\n",
              "    <tr>\n",
              "      <th>82</th>\n",
              "      <td>GAMAITALY</td>\n",
              "      <td>69267.307118</td>\n",
              "    </tr>\n",
              "  </tbody>\n",
              "</table>\n",
              "</div>"
            ],
            "text/plain": [
              "          MARCA       SUBTOTAL\n",
              "222  WORLD WINE  171018.899950\n",
              "189      SEKURO  149328.023892\n",
              "200    TOK&STOK   98221.299154\n",
              "204   TROUSSEAU   78721.333997\n",
              "82    GAMAITALY   69267.307118"
            ]
          },
          "metadata": {
            "tags": []
          },
          "execution_count": 237
        }
      ]
    },
    {
      "cell_type": "markdown",
      "metadata": {
        "id": "10vyCZewUDVA",
        "colab_type": "text"
      },
      "source": [
        "**Nesta, fora criado um pivot para que pudessemos ter uma noção do total de quantos produtos foram vendidos de acordo com cada SKU's - É possível alterar parar que todos as demais SKU's sejam vistas também.** "
      ]
    },
    {
      "cell_type": "code",
      "metadata": {
        "id": "aQ6U_mqmS1N6",
        "colab_type": "code",
        "colab": {
          "base_uri": "https://localhost:8080/",
          "height": 204
        },
        "outputId": "7acbaa37-c098-4910-cc75-973f5bdac1a2"
      },
      "source": [
        "piv_df_sku = pd.pivot_table(df,\n",
        "                            values=['QUANTIDADE'],\n",
        "                            index='SKU',\n",
        "                            aggfunc='sum').reset_index().sort_values(by='QUANTIDADE', ascending=False)\n",
        "piv_df_sku.head()\n",
        "\n",
        "#O índice do lado esquerdo de cada pivô é posto pela própria linguagem utilizada, e não interfere em nenhuma ocasião de qualquer análise realizada. "
      ],
      "execution_count": null,
      "outputs": [
        {
          "output_type": "execute_result",
          "data": {
            "text/html": [
              "<div>\n",
              "<style scoped>\n",
              "    .dataframe tbody tr th:only-of-type {\n",
              "        vertical-align: middle;\n",
              "    }\n",
              "\n",
              "    .dataframe tbody tr th {\n",
              "        vertical-align: top;\n",
              "    }\n",
              "\n",
              "    .dataframe thead th {\n",
              "        text-align: right;\n",
              "    }\n",
              "</style>\n",
              "<table border=\"1\" class=\"dataframe\">\n",
              "  <thead>\n",
              "    <tr style=\"text-align: right;\">\n",
              "      <th></th>\n",
              "      <th>SKU</th>\n",
              "      <th>QUANTIDADE</th>\n",
              "    </tr>\n",
              "  </thead>\n",
              "  <tbody>\n",
              "    <tr>\n",
              "      <th>480</th>\n",
              "      <td>DoacaoalcoolgelC6</td>\n",
              "      <td>1006.0</td>\n",
              "    </tr>\n",
              "    <tr>\n",
              "      <th>46</th>\n",
              "      <td>7312040017034</td>\n",
              "      <td>304.0</td>\n",
              "    </tr>\n",
              "    <tr>\n",
              "      <th>7</th>\n",
              "      <td>080432400432</td>\n",
              "      <td>300.0</td>\n",
              "    </tr>\n",
              "    <tr>\n",
              "      <th>141</th>\n",
              "      <td>C6anuidadeCarbon</td>\n",
              "      <td>235.0</td>\n",
              "    </tr>\n",
              "    <tr>\n",
              "      <th>37</th>\n",
              "      <td>5010106111925</td>\n",
              "      <td>200.0</td>\n",
              "    </tr>\n",
              "  </tbody>\n",
              "</table>\n",
              "</div>"
            ],
            "text/plain": [
              "                   SKU  QUANTIDADE\n",
              "480  DoacaoalcoolgelC6      1006.0\n",
              "46       7312040017034       304.0\n",
              "7         080432400432       300.0\n",
              "141   C6anuidadeCarbon       235.0\n",
              "37       5010106111925       200.0"
            ]
          },
          "metadata": {
            "tags": []
          },
          "execution_count": 13
        }
      ]
    },
    {
      "cell_type": "markdown",
      "metadata": {
        "id": "09ukUsyfXcUp",
        "colab_type": "text"
      },
      "source": [
        "**Da mesma forma que o anterior, todavia com uma diferença, este apresenta as maiores quantidades de vendas por produto.**"
      ]
    },
    {
      "cell_type": "code",
      "metadata": {
        "id": "2hbS3HMorAG2",
        "colab_type": "code",
        "colab": {}
      },
      "source": [
        "piv_df_vendas_pedido['MÊS'] = pd.to_datetime(df['DATA']).dt.to_period('M')"
      ],
      "execution_count": null,
      "outputs": []
    },
    {
      "cell_type": "code",
      "metadata": {
        "id": "_ZQMWXmXWWX7",
        "colab_type": "code",
        "colab": {
          "base_uri": "https://localhost:8080/",
          "height": 204
        },
        "outputId": "23dd4df3-3bf0-4a0c-f12d-cfc125f0c5c9"
      },
      "source": [
        "piv_df_vendas_pedido = pd.pivot_table(df[df['STATUS DO PEDIDO'] == 'APROVADO'],\n",
        "                            values=['QUANTIDADE'],\n",
        "                            index=['PRODUTO'],\n",
        "                            aggfunc='sum').reset_index().sort_values(by='QUANTIDADE', ascending=False)\n",
        "piv_df_vendas_pedido.head()\n",
        "\n",
        "#O índice do lado esquerdo de cada pivot (tabela) é posto pela própria linguagem utilizada, e não interfere em nenhuma ocasião de qualquer análise realizada. "
      ],
      "execution_count": null,
      "outputs": [
        {
          "output_type": "execute_result",
          "data": {
            "text/html": [
              "<div>\n",
              "<style scoped>\n",
              "    .dataframe tbody tr th:only-of-type {\n",
              "        vertical-align: middle;\n",
              "    }\n",
              "\n",
              "    .dataframe tbody tr th {\n",
              "        vertical-align: top;\n",
              "    }\n",
              "\n",
              "    .dataframe thead th {\n",
              "        text-align: right;\n",
              "    }\n",
              "</style>\n",
              "<table border=\"1\" class=\"dataframe\">\n",
              "  <thead>\n",
              "    <tr style=\"text-align: right;\">\n",
              "      <th></th>\n",
              "      <th>PRODUTO</th>\n",
              "      <th>QUANTIDADE</th>\n",
              "    </tr>\n",
              "  </thead>\n",
              "  <tbody>\n",
              "    <tr>\n",
              "      <th>681</th>\n",
              "      <td>DOAÇÃO DE ÁLCOOL GEL 175G</td>\n",
              "      <td>996.0</td>\n",
              "    </tr>\n",
              "    <tr>\n",
              "      <th>26</th>\n",
              "      <td>ABSOLUT VODKA ORIGINAL SUECA - 1L</td>\n",
              "      <td>297.0</td>\n",
              "    </tr>\n",
              "    <tr>\n",
              "      <th>499</th>\n",
              "      <td>CHIVAS REGAL WHISKY 12 ANOS ESCOCÊS - 1L</td>\n",
              "      <td>286.0</td>\n",
              "    </tr>\n",
              "    <tr>\n",
              "      <th>1628</th>\n",
              "      <td>PARCELA DA ANUIDADE CARTÃO C6 CARBON MASTERCAR...</td>\n",
              "      <td>235.0</td>\n",
              "    </tr>\n",
              "    <tr>\n",
              "      <th>2188</th>\n",
              "      <td>WYBOROWA VODKA POLONESA - 750ML</td>\n",
              "      <td>198.0</td>\n",
              "    </tr>\n",
              "  </tbody>\n",
              "</table>\n",
              "</div>"
            ],
            "text/plain": [
              "                                                PRODUTO  QUANTIDADE\n",
              "681                           DOAÇÃO DE ÁLCOOL GEL 175G       996.0\n",
              "26                    ABSOLUT VODKA ORIGINAL SUECA - 1L       297.0\n",
              "499            CHIVAS REGAL WHISKY 12 ANOS ESCOCÊS - 1L       286.0\n",
              "1628  PARCELA DA ANUIDADE CARTÃO C6 CARBON MASTERCAR...       235.0\n",
              "2188                    WYBOROWA VODKA POLONESA - 750ML       198.0"
            ]
          },
          "metadata": {
            "tags": []
          },
          "execution_count": 59
        }
      ]
    },
    {
      "cell_type": "markdown",
      "metadata": {
        "id": "eZo7ZcmK7I4h",
        "colab_type": "text"
      },
      "source": [
        "**De acordo com a análise anterior, pudemos observar que o produto que obteve uma maior quantidade de vendas foi o \"DOAÇÃO DE ÁLCOOL GEL 175G\". Com isso, criei um pivot (tabela) especificando o *álcool gel* para realizar uma breve análise sobre ele durante os meses.**"
      ]
    },
    {
      "cell_type": "code",
      "metadata": {
        "id": "Li7i2GdC66CN",
        "colab_type": "code",
        "colab": {
          "base_uri": "https://localhost:8080/",
          "height": 111
        },
        "outputId": "3211eeb0-6a20-480d-b1ac-50c853ec2f9a"
      },
      "source": [
        "piv_df_vendas_pedido = pd.pivot_table(\n",
        "                                      df[df['PRODUTO'] == 'DOAÇÃO DE ÁLCOOL GEL 175G'],\n",
        "                            values=['QUANTIDADE'],\n",
        "                            index=['MÊS', 'PRODUTO'],\n",
        "                            aggfunc='sum').reset_index().sort_values(by='QUANTIDADE', ascending=False)\n",
        "piv_df_vendas_pedido.head()\n",
        "\n",
        "#O índice do lado esquerdo de cada pivô é posto pela própria linguagem utilizada, e não interfere em nenhuma ocasião de qualquer análise realizada. "
      ],
      "execution_count": null,
      "outputs": [
        {
          "output_type": "execute_result",
          "data": {
            "text/html": [
              "<div>\n",
              "<style scoped>\n",
              "    .dataframe tbody tr th:only-of-type {\n",
              "        vertical-align: middle;\n",
              "    }\n",
              "\n",
              "    .dataframe tbody tr th {\n",
              "        vertical-align: top;\n",
              "    }\n",
              "\n",
              "    .dataframe thead th {\n",
              "        text-align: right;\n",
              "    }\n",
              "</style>\n",
              "<table border=\"1\" class=\"dataframe\">\n",
              "  <thead>\n",
              "    <tr style=\"text-align: right;\">\n",
              "      <th></th>\n",
              "      <th>MÊS</th>\n",
              "      <th>PRODUTO</th>\n",
              "      <th>QUANTIDADE</th>\n",
              "    </tr>\n",
              "  </thead>\n",
              "  <tbody>\n",
              "    <tr>\n",
              "      <th>0</th>\n",
              "      <td>2020-04</td>\n",
              "      <td>DOAÇÃO DE ÁLCOOL GEL 175G</td>\n",
              "      <td>617.0</td>\n",
              "    </tr>\n",
              "    <tr>\n",
              "      <th>1</th>\n",
              "      <td>2020-05</td>\n",
              "      <td>DOAÇÃO DE ÁLCOOL GEL 175G</td>\n",
              "      <td>389.0</td>\n",
              "    </tr>\n",
              "  </tbody>\n",
              "</table>\n",
              "</div>"
            ],
            "text/plain": [
              "       MÊS                    PRODUTO  QUANTIDADE\n",
              "0  2020-04  DOAÇÃO DE ÁLCOOL GEL 175G       617.0\n",
              "1  2020-05  DOAÇÃO DE ÁLCOOL GEL 175G       389.0"
            ]
          },
          "metadata": {
            "tags": []
          },
          "execution_count": 60
        }
      ]
    },
    {
      "cell_type": "markdown",
      "metadata": {
        "id": "Yuwp_-Py7vQa",
        "colab_type": "text"
      },
      "source": [
        "**É preciso converter o tipo de dado do campo (coluna) \"mês\" para que o gráfico seja construído.**"
      ]
    },
    {
      "cell_type": "code",
      "metadata": {
        "id": "cP96Td5hs6JM",
        "colab_type": "code",
        "colab": {}
      },
      "source": [
        "piv_df_vendas_pedido['MÊS'] = piv_df_vendas_pedido.MÊS.values.astype('datetime64[M]')"
      ],
      "execution_count": null,
      "outputs": []
    },
    {
      "cell_type": "markdown",
      "metadata": {
        "id": "_nyZTI5D74XU",
        "colab_type": "text"
      },
      "source": [
        "**Criação do gráfico com base no produto mais vendido, de acordo com o total de vendas. Porém, separado por cada mês para que possamos analisar sua tendência. \n",
        "Conforme os marcadores no gráfico, este produto teve suas vendas apenas no mês de abril (2020-04) e maio (2020-05), tendo uma queda em sua performance de *36,95%* de abril para maio, e um total de zero vendas no mês seguinte.**"
      ]
    },
    {
      "cell_type": "code",
      "metadata": {
        "id": "m5ZKmdfsnQcc",
        "colab_type": "code",
        "colab": {
          "base_uri": "https://localhost:8080/",
          "height": 411
        },
        "outputId": "767aac4f-869b-4d9d-ee78-8c9042de025d"
      },
      "source": [
        "plt.figure(figsize=(20,6))\n",
        "sns.set(style='whitegrid')\n",
        "sns.lineplot(x='MÊS', y='QUANTIDADE', hue='PRODUTO', data=piv_df_vendas_pedido, marker='o', scalex=False, scaley=False)"
      ],
      "execution_count": null,
      "outputs": [
        {
          "output_type": "execute_result",
          "data": {
            "text/plain": [
              "<matplotlib.axes._subplots.AxesSubplot at 0x7f2260309160>"
            ]
          },
          "metadata": {
            "tags": []
          },
          "execution_count": 56
        },
        {
          "output_type": "display_data",
          "data": {
            "image/png": "[encoded data removed]",
            "text/plain": [
              "<Figure size 1440x432 with 1 Axes>"
            ]
          },
          "metadata": {
            "tags": []
          }
        }
      ]
    },
    {
      "cell_type": "markdown",
      "metadata": {
        "id": "Oe2TvPErXjJW",
        "colab_type": "text"
      },
      "source": [
        "TODO:\n",
        "- Vendas por marca (OK)\n",
        "- Vendas por canal (OK)\n",
        "- Tendência de vendas por canal (OK)\n",
        "- Frete médio por estado (OK)\n",
        "- GMV (Gross Merchandise Volume - Volume Bruto de Mercadorias) (preço + frete) por marca. (OK)\n",
        "- SKUs vendidos por marca. (OK)\n",
        "- Quantidade de vendas por item. (OK)\n",
        "- Tendência do produto mais vendido por mês. (OK)."
      ]
    }
  ]
}